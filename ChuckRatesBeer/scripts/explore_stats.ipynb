{
 "cells": [
  {
   "cell_type": "code",
   "execution_count": 3,
   "metadata": {
    "collapsed": true,
    "pycharm": {
     "is_executing": false
    }
   },
   "outputs": [],
   "source": [
    "import pandas\n",
    "\n",
    "\n",
    "df = pandas.read_json(\"../data/chuckratesbeer.json\")\n",
    "with pandas.option_context('display.max_rows', None, 'display.max_columns', None):\n",
    "    # Rating score by count\n",
    "    df['rating_score'].value_counts()\n"
   ]
  },
  {
   "cell_type": "code",
   "execution_count": null,
   "outputs": [],
   "source": [
    "\n",
    "# Find highest\n",
    "print(df.loc[df['rating_score'] == 5.0])\n",
    "\n",
    "# Find lowest rated\n",
    "print(df.loc[df['rating_score'] == 0.5])\n",
    "\n",
    "# Count beer type most\n",
    "print(df['beer_type'].value_counts())\n",
    "\n",
    "# Rating by beer_type\n",
    "print(df.groupby(['beer_type'])['rating_score'].mean())\n",
    "# nf = df.groupby(['beer_type'])\n",
    "# nf.apply()\n",
    "\n",
    "# Make subtypes\n",
    "df[[\"Type\", \"Subtype\"]] = df.beer_type.str.split(\" - \", expand=True)\n",
    "print(df.head())\n",
    "print(df.groupby(['Type'])['rating_score'].mean())\n",
    "print(df['Type'].value_counts())\n",
    "print(df['beer_type'].value_counts())\n",
    "a = df['beer_type'].value_counts()\n",
    "print(a.index)\n",
    "df_by_spec_count = df.groupby('beer_type')['rating_score'].agg(['mean', 'count'])\n",
    "print(df_by_spec_count.sort_values(by='mean', ascending=False))\n",
    "\n",
    "df_by_spec_count = df.groupby('Type')['rating_score'].agg(['mean', 'count'])\n",
    "print(df_by_spec_count.sort_values(by='mean', ascending=False))\n"
   ],
   "metadata": {
    "collapsed": false,
    "pycharm": {
     "name": "#%%\n"
    }
   }
  }
 ],
 "metadata": {
  "language_info": {
   "codemirror_mode": {
    "name": "ipython",
    "version": 2
   },
   "file_extension": ".py",
   "mimetype": "text/x-python",
   "name": "python",
   "nbconvert_exporter": "python",
   "pygments_lexer": "ipython2",
   "version": "2.7.6"
  },
  "kernelspec": {
   "name": "python3",
   "language": "python",
   "display_name": "Python 3"
  },
  "pycharm": {
   "stem_cell": {
    "cell_type": "raw",
    "source": [],
    "metadata": {
     "collapsed": false
    }
   }
  }
 },
 "nbformat": 4,
 "nbformat_minor": 0
}